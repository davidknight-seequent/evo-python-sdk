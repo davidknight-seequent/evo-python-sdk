{
 "cells": [
  {
   "cell_type": "markdown",
   "metadata": {},
   "source": [
    "## Publish a Pointset object\n",
    "\n",
    "This example shows how to convert pointset data in CSV format into an Evo geoscience object using the Evo Python SDK.\n",
    "\n",
    "### Requirements\n",
    "\n",
    "You must have a Seequent account with the Evo entitlement to use this notebook.\n",
    "\n",
    "The following parameters must be provided:\n",
    "\n",
    "- The client ID of your Evo application.\n",
    "- The callback/redirect URL of your Evo application.\n",
    "\n",
    "To obtain these app credentials, refer to the [Apps and tokens guide](https://developer.seequent.com/docs/guides/getting-started/apps-and-tokens) in the Seequent Developer Portal."
   ]
  },
  {
   "cell_type": "code",
   "execution_count": null,
   "metadata": {},
   "outputs": [],
   "source": [
    "import uuid\n",
    "\n",
    "import pandas as pd\n",
    "from evo_schemas.components import (\n",
    "    BoundingBox_V1_0_1,\n",
    "    CategoryAttribute_V1_1_0,\n",
    "    ContinuousAttribute_V1_1_0,\n",
    "    Crs_V1_0_1_EpsgCode,\n",
    "    NanCategorical_V1_0_1,\n",
    "    NanContinuous_V1_0_1,\n",
    ")\n",
    "from evo_schemas.elements import (\n",
    "    FloatArray1_V1_0_1,\n",
    "    FloatArray3_V1_0_1,\n",
    "    IntegerArray1_V1_0_1,\n",
    "    LookupTable_V1_0_1,\n",
    ")\n",
    "from evo_schemas.objects import Pointset_V1_2_0, Pointset_V1_2_0_Locations\n",
    "from IPython.display import HTML, display\n",
    "\n",
    "from evo.aio import AioTransport\n",
    "from evo.common import APIConnector, Environment\n",
    "from evo.common.utils.cache import Cache\n",
    "from evo.notebooks import FeedbackWidget\n",
    "from evo.oauth import ClientCredentialsAuthorizer, EvoScopes, OAuthConnector\n",
    "from evo.objects import ObjectAPIClient\n",
    "\n",
    "cache_location = \"data\"\n",
    "input_path = f\"{cache_location}/input\"\n",
    "\n",
    "# # Evo app credentials\n",
    "# client_id = \"daves-evo-client\"\n",
    "# redirect_url = \"http://localhost:32369/auth/callback\"\n",
    "\n",
    "# manager = await ServiceManagerWidget.with_auth_code(\n",
    "#     discovery_url=\"https://discover.api.seequent.com\",\n",
    "#     redirect_url=redirect_url,\n",
    "#     client_id=client_id,\n",
    "#     cache_location=cache_location,\n",
    "# ).login()\n",
    "\n",
    "\n",
    "cache = Cache(root=cache_location, mkdir=True)\n",
    "org_id = \"72748d4c-442f-4442-adf2-1d6dc8058f80\"\n",
    "workspace_id = \"0e6fc58a-4673-4265-a0ae-bf9291279bce\"\n",
    "client_id = \"service-WYZOIBAlEbvzZXv5UfU9CGqmD\"\n",
    "client_secret = \"5ZmaZ73/8RhBIkHR1iPTtrCZzehgJfsVmO5VggXZbyPgJu2OPGS+VRS7ywvS9E4OB34KAzKcN6a1w77j9b0GjA==\"\n",
    "user_agent = \"seequent-evo-app\"\n",
    "hub_url = \"https://evo-demo.api.seequent.com\"\n",
    "user_id = \"test-runner\"\n",
    "\n",
    "environment = Environment(hub_url=hub_url, org_id=uuid.UUID(org_id), workspace_id=uuid.UUID(workspace_id))\n",
    "\n",
    "transport = AioTransport(user_agent=user_agent)\n",
    "authorizer = ClientCredentialsAuthorizer(\n",
    "    oauth_connector=OAuthConnector(\n",
    "        transport=AioTransport(user_agent=user_agent),\n",
    "        client_id=client_id,\n",
    "        client_secret=client_secret,\n",
    "    ),\n",
    "    scopes=EvoScopes.all_evo,\n",
    ")\n",
    "\n",
    "await authorizer.authorize()\n",
    "\n",
    "connector = APIConnector(base_url=environment.hub_url, transport=transport, authorizer=authorizer)\n",
    "async with authorizer._unwrap_token() as token:\n",
    "    print(token.access_token)"
   ]
  },
  {
   "cell_type": "markdown",
   "metadata": {},
   "source": [
    "### Use the Evo Python SDK to create an object client and a data client"
   ]
  },
  {
   "cell_type": "code",
   "execution_count": null,
   "metadata": {},
   "outputs": [],
   "source": [
    "# The object client will manage your auth token and Geoscience Object API requests.\n",
    "object_client = ObjectAPIClient(connector=connector, environment=environment)\n",
    "\n",
    "# The data client will manage saving your data as Parquet and publishing your data to Evo storage.\n",
    "data_client = object_client.get_data_client(cache=cache)\n",
    "\n",
    "for obj in await object_client.list_all_objects():\n",
    "    print(f\"Found object: {obj.name} (ID: {obj.id})\")"
   ]
  },
  {
   "cell_type": "markdown",
   "metadata": {},
   "source": [
    "### Define helper functions\n",
    "\n",
    "These functions assist with assembling the elements and components of geoscience objects and for viewing the new object in the Evo portal."
   ]
  },
  {
   "cell_type": "code",
   "execution_count": null,
   "metadata": {},
   "outputs": [],
   "source": [
    "import numpy as np\n",
    "\n",
    "\n",
    "def create_category_lookup_and_values(attribute):\n",
    "    \"\"\"\n",
    "    Create a category lookup table and the associated column of mapped key values.\n",
    "\n",
    "    Args:\n",
    "        attribute (pd.DataFrame): An attribute of a geoscience object.\n",
    "\n",
    "    Returns:\n",
    "        table_df (pd.DataFrame): The category lookup table.\n",
    "        values_df (pd.DataFrame): The associated column with mapped key values.\n",
    "    \"\"\"\n",
    "\n",
    "    # Replace NaN with empty string\n",
    "    attribute.replace(np.nan, \"\", regex=True, inplace=True)\n",
    "    set_obj = set(attribute[\"data\"])\n",
    "    list_obj = list(set_obj)\n",
    "    list_obj.sort()\n",
    "    num_unique_elements = len(list_obj)\n",
    "\n",
    "    # Create lookup table\n",
    "    table_df = pd.DataFrame([])\n",
    "    table_df[\"key\"] = list(range(1, num_unique_elements + 1))\n",
    "    table_df[\"value\"] = list_obj\n",
    "\n",
    "    # Create data column\n",
    "    values_df = pd.DataFrame([])\n",
    "    values_df[\"data\"] = attribute[\"data\"].map(table_df.set_index(\"value\")[\"key\"])\n",
    "    return table_df, values_df\n",
    "\n",
    "\n",
    "def build_portal_url(object_metadata):\n",
    "    \"\"\"\n",
    "    Build and display a link to view the geoscience object in the Evo Portal.\n",
    "\n",
    "    Args:\n",
    "        object_metadata: The metadata object returned after creating the geoscience object.\n",
    "\n",
    "    Returns:\n",
    "        None. Displays an HTML link to the Evo Portal for the created object.\n",
    "    \"\"\"\n",
    "\n",
    "    hub_url = object_metadata.environment.hub_url\n",
    "    hub_name = hub_url.split(\"://\")[1].split(\".\")[0]\n",
    "    org_id = object_metadata.environment.org_id\n",
    "    workspace_id = object_metadata.environment.workspace_id\n",
    "    object_id = object_metadata.id\n",
    "\n",
    "    url = f\"https://evo.seequent.com/{org_id}/workspaces/{hub_name}/{workspace_id}/viewer?id={object_id}\"\n",
    "\n",
    "    display(HTML(f'<a href=\"{url}\" target=\"_blank\">View object in the Evo Portal</a>'))"
   ]
  },
  {
   "cell_type": "markdown",
   "metadata": {},
   "source": [
    "### Define object metadata\n",
    "\n",
    "Geoscience object data must conform to a specific object schema. The `evo-schemas` package provides Pydantic models that make it easy to work with the equivalent JSON schemas. \n",
    "For this example we'll use v1.2.0 of the pointset schema, via the relevant Pydantic model.\n",
    "\n",
    "Enter values for these parameters that are required by the object schema.\n",
    "- `object_name`: The name of the object.\n",
    "- `object_path`: The file path where the object will be found.\n",
    "- `object_epsg_code`: (Optional) The EPSG region code that matches the location of your data. Leave as `None` if not required.\n",
    "- `object_tags`: (Optional) A dictionary of additional tags to be assigned to the object. Leave as `None` is not required."
   ]
  },
  {
   "cell_type": "code",
   "execution_count": null,
   "metadata": {},
   "outputs": [],
   "source": [
    "object_name = \"Pointset_SDK_demo\"\n",
    "object_path = \"Jupyter_Example\"\n",
    "object_epsg_code = 32650\n",
    "object_tags = {\"Source\": \"Jupyter Notebook\", \"Evo SDK\": \"0.1.5\"}\n",
    "\n",
    "# Define the coordinate reference system (CRS) to be unspecified.\n",
    "# coordinate_reference_system = \"unspecified\"\n",
    "object_epsg_code = 32650\n",
    "\n",
    "# Define a coordinate reference system (CRS) for the object.\n",
    "coordinate_reference_system = Crs_V1_0_1_EpsgCode(epsg_code=object_epsg_code)\n",
    "\n",
    "# Define input and output file paths.\n",
    "input_file = f\"{input_path}/WP_assay.csv\"\n",
    "\n",
    "# Load the input csv file.\n",
    "input_df = pd.read_csv(input_file)\n",
    "\n",
    "# Define the object path.\n",
    "full_obj_path = f\"{object_path}/{object_name}.json\""
   ]
  },
  {
   "cell_type": "markdown",
   "metadata": {},
   "source": [
    "### Define object attributes and keys"
   ]
  },
  {
   "cell_type": "code",
   "execution_count": null,
   "metadata": {},
   "outputs": [],
   "source": [
    "# List all of the attributes to be included in the object. Every attribute must have a unique key associated with it.\n",
    "# Keys must be unique across the entire object, and we recommend saving a reference to the keys for later use.\n",
    "object_attributes = {\n",
    "    \"WP_assay\": {\n",
    "        \"Hole ID\": str(uuid.uuid4()),\n",
    "        \"CU_pct\": str(uuid.uuid4()),\n",
    "        \"AU_gpt\": str(uuid.uuid4()),\n",
    "        \"DENSITY\": str(uuid.uuid4()),\n",
    "    },\n",
    "}"
   ]
  },
  {
   "cell_type": "markdown",
   "metadata": {},
   "source": [
    "### Coordinates"
   ]
  },
  {
   "cell_type": "code",
   "execution_count": null,
   "metadata": {},
   "outputs": [],
   "source": [
    "# Create a dataframe for the coordinates.\n",
    "coordinates_df = input_df[[\"X\", \"Y\", \"Z\"]]\n",
    "\n",
    "# Create a bounding box for the coordinates.\n",
    "bounding_box = BoundingBox_V1_0_1(\n",
    "    min_x=coordinates_df[\"X\"].min(),\n",
    "    max_x=coordinates_df[\"X\"].max(),\n",
    "    min_y=coordinates_df[\"Y\"].min(),\n",
    "    max_y=coordinates_df[\"Y\"].max(),\n",
    "    min_z=coordinates_df[\"Z\"].min(),\n",
    "    max_z=coordinates_df[\"Z\"].max(),\n",
    ")\n",
    "\n",
    "# Save the coordinates dataframe to a parquet file.\n",
    "coordinates = FloatArray3_V1_0_1.from_dict(data_client.save_dataframe(coordinates_df))"
   ]
  },
  {
   "cell_type": "markdown",
   "metadata": {},
   "source": [
    "### Attribute columns"
   ]
  },
  {
   "cell_type": "code",
   "execution_count": null,
   "metadata": {},
   "outputs": [],
   "source": [
    "attributes = []\n",
    "\n",
    "for heading_name, heading_key in object_attributes[\"WP_assay\"].items():\n",
    "    values_df = pd.DataFrame()\n",
    "    values_df[\"data\"] = input_df[heading_name]\n",
    "    value_dtype = values_df[\"data\"].dtype\n",
    "\n",
    "    if value_dtype == \"object\":\n",
    "        print(f\"Treating {heading_name} as a category type\")\n",
    "        table_df, values_df = create_category_lookup_and_values(values_df)\n",
    "\n",
    "        table = LookupTable_V1_0_1.from_dict(data_client.save_dataframe(table_df))\n",
    "        values = IntegerArray1_V1_0_1.from_dict(data_client.save_dataframe(values_df))\n",
    "\n",
    "        attribute = CategoryAttribute_V1_1_0(\n",
    "            name=heading_name,\n",
    "            nan_description=NanCategorical_V1_0_1(values=[]),\n",
    "            key=heading_key,\n",
    "            table=table,\n",
    "            values=values,\n",
    "        )\n",
    "\n",
    "        attributes.append(attribute)\n",
    "\n",
    "    else:\n",
    "        print(f\"Treating {heading_name} as a scalar type\")\n",
    "        values = FloatArray1_V1_0_1.from_dict(data_client.save_dataframe(values_df))\n",
    "        attribute = ContinuousAttribute_V1_1_0(\n",
    "            name=heading_name,\n",
    "            nan_description=NanContinuous_V1_0_1(values=[]),\n",
    "            key=heading_key,\n",
    "            values=values,\n",
    "        )\n",
    "\n",
    "        attributes.append(attribute)\n",
    "\n",
    "# Define the pointset locations component.\n",
    "locations = Pointset_V1_2_0_Locations(coordinates=coordinates, attributes=attributes)"
   ]
  },
  {
   "cell_type": "markdown",
   "metadata": {},
   "source": [
    "### Create a new pointset and publish it to Evo"
   ]
  },
  {
   "cell_type": "code",
   "execution_count": null,
   "metadata": {},
   "outputs": [],
   "source": [
    "# Lastly, assemble the complete geoscience object by combining all previously defined components.\n",
    "# - The name and UUID are used to identify the object.\n",
    "# - The UUID is set to None because this is a new object. A new UUID will be assigned by the Evo service.\n",
    "# - The bounding box defines the spatial extent of the object.\n",
    "# - The tags provide metadata about the object.\n",
    "# - The coordinate reference system defines the spatial reference for the object.\n",
    "# - The locations component contains the coordinates and attributes.\n",
    "\n",
    "pointset = Pointset_V1_2_0(\n",
    "    name=object_name,\n",
    "    uuid=None,\n",
    "    bounding_box=bounding_box,\n",
    "    tags=object_tags,\n",
    "    coordinate_reference_system=coordinate_reference_system,\n",
    "    locations=locations,\n",
    ")\n",
    "\n",
    "# Upload the Parquet data to Evo.\n",
    "await data_client.upload_referenced_data(pointset.as_dict(), FeedbackWidget(\"Uploading data\"))\n",
    "\n",
    "# Create the geoscience object.\n",
    "new_pointset_metadata = await object_client.create_geoscience_object(full_obj_path, pointset.as_dict())"
   ]
  },
  {
   "cell_type": "markdown",
   "metadata": {},
   "source": [
    "### View the object in the Evo portal"
   ]
  },
  {
   "cell_type": "code",
   "execution_count": null,
   "metadata": {},
   "outputs": [],
   "source": [
    "build_portal_url(new_pointset_metadata)"
   ]
  },
  {
   "cell_type": "markdown",
   "metadata": {},
   "source": [
    "Success! You now have a new geoscience object in Evo containing your pointset data.\n",
    "\n",
    "## Summary\n",
    "\n",
    "In this example, we've completed the following:\n",
    "* Analysed the coordinates and constructed the elements and components required for coordinates.\n",
    "* Analysed the data columns and constructed the elements and components required for attribute.\n",
    "* Converted the input coordinate and attribute data into Parquet format and saved it to the local cache.\n",
    "* Combined all of the elements, components and data references into the pointset schema format.\n",
    "* Uploaded the Parquet files and the newly assembled object in JSON format to Evo."
   ]
  }
 ],
 "metadata": {
  "kernelspec": {
   "display_name": "samples",
   "language": "python",
   "name": "python3"
  },
  "language_info": {
   "codemirror_mode": {
    "name": "ipython",
    "version": 3
   },
   "file_extension": ".py",
   "mimetype": "text/x-python",
   "name": "python",
   "nbconvert_exporter": "python",
   "pygments_lexer": "ipython3",
   "version": "3.10.16"
  }
 },
 "nbformat": 4,
 "nbformat_minor": 4
}
